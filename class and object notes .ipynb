{
 "cells": [
  {
   "cell_type": "code",
   "execution_count": 6,
   "metadata": {},
   "outputs": [
    {
     "name": "stdout",
     "output_type": "stream",
     "text": [
      "the customer name is Rita Jones\n",
      "the customer name is 0\n"
     ]
    }
   ],
   "source": [
    "class CurrentAccount: \n",
    "    def __init__(self, customer_name): \n",
    "        self.name = customer_name\n",
    "        self.balance = 0 \n",
    "    def get_customer_name(self): \n",
    "        #instance, appear in the instance when self.name is recalled from init\n",
    "        return self.name\n",
    "    def get_customer_balance(self): \n",
    "        #instance, appear in the instance when self.balance is recalled from init\n",
    "        return self.balance\n",
    "\n",
    "account_holder=CurrentAccount('Rita Jones')\n",
    "print ('the customer name is', account_holder.get_customer_name())\n",
    "print ('the customer name is', account_holder.get_customer_balance())"
   ]
  },
  {
   "cell_type": "code",
   "execution_count": 8,
   "metadata": {},
   "outputs": [
    {
     "name": "stdout",
     "output_type": "stream",
     "text": [
      "Bob Costa has the balance of  0\n",
      "Bob Costa has the balance of  989\n",
      "Bob Costa has the balance of 281\n",
      "Moron Moo 281\n"
     ]
    }
   ],
   "source": [
    "class Account: \n",
    "    def __init__ (self, balance, name): #data attribute \n",
    "        self.balance = balance\n",
    "        self.name = name    \n",
    "    def credit(self, deposit): \n",
    "         #method attribute \n",
    "        self.balance = self.balance + deposit    \n",
    "    def debit (self, withdraw): \n",
    "        self.balance = self.balance - withdraw\n",
    "    def get_balance(self): \n",
    "        return self.balance\n",
    "        #get balance \n",
    "    def get_name(self): \n",
    "        return self.name\n",
    "        #getter of name \n",
    "    def set_name(self, name): \n",
    "        self.name = name \n",
    "        #setter of name, use to change the name  \n",
    "customer=Account(0, 'Bob Costa')\n",
    "print(customer.get_name(), 'has the balance of ', customer.get_balance())\n",
    "customer.credit(989)\n",
    "print(customer.get_name(), 'has the balance of ', customer.get_balance())\n",
    "customer.debit(708)\n",
    "print(customer.get_name(), 'has the balance of', customer.get_balance())\n",
    "customer.set_name('Moron Moo')\n",
    "print(customer.get_name(), customer.get_balance())"
   ]
  },
  {
   "cell_type": "code",
   "execution_count": 18,
   "metadata": {},
   "outputs": [
    {
     "name": "stdout",
     "output_type": "stream",
     "text": [
      "Bob Costa has the balance of  0\n",
      "Bob Costa has the balance of  989\n",
      "Bob Costa has the balance of 281\n"
     ]
    }
   ],
   "source": [
    "class Account: \n",
    "    def __init__ (self, balance, name): \n",
    "        self.balance = balance\n",
    "        self.name = name \n",
    "    def credit(self, deposit): \n",
    "        self.balance = self.balance + deposit\n",
    "        #instance when money is deposited \n",
    "    def debit (self, withdraw): \n",
    "        self.balance = self.balance - withdraw\n",
    "        #instance where money is withdrawn\n",
    "\n",
    "#directly accessing the value in the data field \n",
    "customer=Account(0, 'Bob Costa')\n",
    "print(customer.name, 'has the balance of ', customer.balance)\n",
    "customer.credit(989)\n",
    "print(customer.name, 'has the balance of ', customer.balance)\n",
    "customer.debit(708)\n",
    "print(customer.name, 'has the balance of', customer.balance)\n",
    "#customer.get_name(), the brackets basically means(customer.name) "
   ]
  },
  {
   "cell_type": "code",
   "execution_count": null,
   "metadata": {},
   "outputs": [],
   "source": []
  },
  {
   "cell_type": "code",
   "execution_count": null,
   "metadata": {},
   "outputs": [],
   "source": []
  }
 ],
 "metadata": {
  "kernelspec": {
   "display_name": "Python 3",
   "language": "python",
   "name": "python3"
  },
  "language_info": {
   "codemirror_mode": {
    "name": "ipython",
    "version": 3
   },
   "file_extension": ".py",
   "mimetype": "text/x-python",
   "name": "python",
   "nbconvert_exporter": "python",
   "pygments_lexer": "ipython3",
   "version": "3.6.5"
  }
 },
 "nbformat": 4,
 "nbformat_minor": 2
}
